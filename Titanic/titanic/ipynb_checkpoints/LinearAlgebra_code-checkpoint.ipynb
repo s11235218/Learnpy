{
 "cells": [
  {
   "cell_type": "code",
   "execution_count": 1,
   "metadata": {
    "collapsed": true
   },
   "outputs": [],
   "source": [
    "import numpy as np\n",
    "import scipy as sp\n",
    "import pandas as pd\n",
    "import matplotlib.pyplot as plt\n",
    "import time\n",
    "\n",
    "%matplotlib inline"
   ]
  },
  {
   "cell_type": "code",
   "execution_count": 2,
   "metadata": {
    "collapsed": true
   },
   "outputs": [],
   "source": [
    "np.random.seed(0)"
   ]
  },
  {
   "cell_type": "markdown",
   "metadata": {},
   "source": [
    "## 标量，向量（矢量），矩阵，张量"
   ]
  },
  {
   "cell_type": "code",
   "execution_count": 3,
   "metadata": {},
   "outputs": [
    {
     "name": "stdout",
     "output_type": "stream",
     "text": [
      "scalar:\n",
      "3\n",
      "vector:\n",
      "[1 2 3]\n",
      "matrix: \n",
      "[[12 15  0]\n",
      " [ 3  3  7]]\n",
      "tensor:\n",
      "[[[ 9 19 18  4]\n",
      "  [ 6 12  1  6]\n",
      "  [ 7 14 17  5]]\n",
      "\n",
      " [[13  8  9 19]\n",
      "  [16 19  5 15]\n",
      "  [15  0 18  3]]]\n"
     ]
    }
   ],
   "source": [
    "scalar = 3\n",
    "vec = np.array([1, 2, 3])\n",
    "mat = np.random.randint(low = 0, high = 20, size = (2, 3))\n",
    "tensor = np.random.randint(low = 0, high = 20, size = (2, 3, 4))\n",
    "\n",
    "print \"scalar:\\n\", scalar\n",
    "print \"vector:\\n\", vec\n",
    "print \"matrix: \\n\", mat\n",
    "print \"tensor:\\n\", tensor"
   ]
  },
  {
   "cell_type": "code",
   "execution_count": 4,
   "metadata": {},
   "outputs": [
    {
     "name": "stdout",
     "output_type": "stream",
     "text": [
      "[0 1 2 3 4 5 6 7 8 9]\n",
      "<type 'numpy.ndarray'>\n",
      "int64\n",
      "**************************************************\n",
      "[ 0.  1.  2.  3.  4.  5.  6.  7.  8.  9.]\n",
      "<type 'numpy.ndarray'>\n",
      "float32\n"
     ]
    }
   ],
   "source": [
    "x = np.arange(0, 10)\n",
    "print x\n",
    "print type(x)\n",
    "print x.dtype\n",
    "print \"*\" * 50\n",
    "x = np.arange(0, 10, dtype = np.float32)\n",
    "print x\n",
    "print type(x)\n",
    "print x.dtype"
   ]
  },
  {
   "cell_type": "code",
   "execution_count": 5,
   "metadata": {},
   "outputs": [
    {
     "name": "stdout",
     "output_type": "stream",
     "text": [
      "[3, 3, 3, 3, 3, 3, 3, 3, 3, 3] <type 'list'>\n",
      "[30] <type 'numpy.ndarray'>\n"
     ]
    }
   ],
   "source": [
    "# list 和 numpy array 的区别: numpy对数值计算非常有效\n",
    "li = [3] * 10\n",
    "print li, type(li)\n",
    "np_arr = np.array([3]) * 10\n",
    "print np_arr, type(np_arr)"
   ]
  },
  {
   "cell_type": "markdown",
   "metadata": {},
   "source": [
    "## 矩阵计算"
   ]
  },
  {
   "cell_type": "markdown",
   "metadata": {},
   "source": [
    "** 向量内积 （dot product） **  \n",
    "\n",
    "$$\n",
    "x^Ty\\,\\,\\in \\,\\,\\mathbb{R}=\\left[ x_1\\,\\,x_2\\,\\,\\cdots \\,\\,x_n \\right] \\left[ \\begin{array}{c}\n",
    "\ty_1\\\\\n",
    "\ty_2\\\\\n",
    "\t\\vdots\\\\\n",
    "\ty_n\\\\\n",
    "\\end{array} \\right] =\\sum_{i=1}^n{x_iy_i}\n",
    "$$"
   ]
  },
  {
   "cell_type": "code",
   "execution_count": 6,
   "metadata": {
    "collapsed": true
   },
   "outputs": [],
   "source": [
    "# 比如我们要计算两个向量的内积\n",
    "# create an numpy array with a large size\n",
    "size = int(1e4)  # setting this too large will be too slow for outer product. Size <= 1e4\n",
    "x1 = np.random.randint(100, size = size)\n",
    "x2 = np.random.randint(100, size = size)"
   ]
  },
  {
   "cell_type": "code",
   "execution_count": 7,
   "metadata": {},
   "outputs": [
    {
     "name": "stdout",
     "output_type": "stream",
     "text": [
      "测试numpy向量内积速度\n",
      "\n",
      "Method = for loop\tResult = 24417610\t Time = 16.3319 ms\n",
      "Method = Numpy dot\tResult = 24417610\t Time = 0.3002 ms\n",
      "Method = Numpy dot 2\tResult = 24417610\t Time = 0.2251 ms\n"
     ]
    }
   ],
   "source": [
    "print \"测试numpy向量内积速度\\n\"\n",
    "t0 = time.time()\n",
    "dot = 0\n",
    "for x1i, x2i in zip(x1, x2):\n",
    "    dot += x1i * x2i\n",
    "print \"Method = for loop\\tResult = {}\\t Time = {:.4f} ms\".format(dot, (time.time() - t0) * 1000)\n",
    "\n",
    "t0 = time.time()\n",
    "dot = np.dot(x1, x2)\n",
    "print \"Method = Numpy dot\\tResult = {}\\t Time = {:.4f} ms\".format(dot, (time.time() - t0) * 1000)\n",
    "\n",
    "\n",
    "t0 = time.time()\n",
    "dot = x1.dot(x2)\n",
    "print \"Method = Numpy dot 2\\tResult = {}\\t Time = {:.4f} ms\".format(dot, (time.time() - t0) * 1000)"
   ]
  },
  {
   "cell_type": "code",
   "execution_count": null,
   "metadata": {
    "collapsed": true
   },
   "outputs": [],
   "source": []
  },
  {
   "cell_type": "markdown",
   "metadata": {},
   "source": [
    "** Outer product: 外积 **\n",
    "\n",
    "$$\n",
    "xy^T\\in \\,\\,\\mathbb{R}=\\left[ \\begin{array}{c}\n",
    "\tx_1\\\\\n",
    "\tx_2\\\\\n",
    "\t\\vdots\\\\\n",
    "\tx_m\\\\\n",
    "\\end{array} \\right] \\left[ y_1\\,\\,y_2\\,\\,\\cdots \\,\\,y_n \\right] ==\\left[ \\begin{matrix}\n",
    "\tx_1y_1&\t\tx_2y_2&\t\t\\cdots&\t\tx_1y_n\\\\\n",
    "\tx_1y_1&\t\tx_2y_2&\t\t\\cdots&\t\tx_2y_n\\\\\n",
    "\t\\vdots&\t\t\\vdots&\t\t\\ddots&\t\t\\vdots\\\\\n",
    "\tx_my_1&\t\tx_my_2&\t\t\\cdots&\t\tx_my_n\\\\\n",
    "\\end{matrix} \\right] \n",
    "$$\n"
   ]
  },
  {
   "cell_type": "code",
   "execution_count": 8,
   "metadata": {},
   "outputs": [
    {
     "name": "stdout",
     "output_type": "stream",
     "text": [
      "测试numpy向量外积速度\n",
      "\n",
      "Method = 2 for loops\tResult shape = (1000, 1000)\tTime = 843.5321 ms\n",
      "Method = Numpy dot\tResult shape = (1000, 1000)\tTime = 4.9992 ms\n",
      "\n",
      "两种方法结果相同与否：True\n"
     ]
    }
   ],
   "source": [
    "x1 = np.random.randint(100, size = 1000)\n",
    "x2 = np.random.randint(100, size = 1000)\n",
    "\n",
    "print \"测试numpy向量外积速度\\n\"\n",
    "t0 = time.time()\n",
    "\n",
    "outer1 = np.zeros((len(x1),len(x2))) # we create a len(x1)*len(x2) matrix with only zeros\n",
    "for i in range(len(x1)):\n",
    "    for j in range(len(x2)):\n",
    "        outer1[i,j] = x1[i]*x2[j]\n",
    "print \"Method = 2 for loops\\tResult shape = {}\\tTime = {:.4f} ms\".format(str(outer1.shape), (time.time() - t0) * 1000)\n",
    "\n",
    "t0 = time.time()\n",
    "outer2 = np.outer(x1, x2)\n",
    "print \"Method = Numpy dot\\tResult shape = {}\\tTime = {:.4f} ms\".format(str(outer2.shape), (time.time() - t0) * 1000)\n",
    "\n",
    "print \"\\n两种方法结果相同与否：{}\".format((outer1 == outer2).all())"
   ]
  },
  {
   "cell_type": "code",
   "execution_count": null,
   "metadata": {
    "collapsed": true
   },
   "outputs": [],
   "source": []
  },
  {
   "cell_type": "markdown",
   "metadata": {},
   "source": [
    "**矩阵的乘积：** \n",
    "$$\n",
    "A\\in \\mathbb{R}^{m\\times n},\\,B\\in \\mathbb{R}^{n\\times p}\\Rightarrow C=AB\\in \\mathbb{R}^{m\\times p}\n",
    "\\\\\n",
    "C_{ij}=\\sum_{k=1}^n{A_{ik}B_{kj}}\n",
    "$$"
   ]
  },
  {
   "cell_type": "code",
   "execution_count": 9,
   "metadata": {},
   "outputs": [
    {
     "name": "stdout",
     "output_type": "stream",
     "text": [
      "[[1 4]\n",
      " [2 3]]\n",
      "[[4 4]\n",
      " [3 3]]\n"
     ]
    }
   ],
   "source": [
    "mat1 = np.random.randint(0, 5, size = (2, 2))\n",
    "mat2 = np.random.randint(0, 5, size = (2, 2))\n",
    "print mat1\n",
    "print mat2"
   ]
  },
  {
   "cell_type": "code",
   "execution_count": 10,
   "metadata": {},
   "outputs": [
    {
     "name": "stdout",
     "output_type": "stream",
     "text": [
      "[[16 16]\n",
      " [17 17]]\n"
     ]
    }
   ],
   "source": [
    "print mat1.dot(mat2)"
   ]
  },
  {
   "cell_type": "code",
   "execution_count": 11,
   "metadata": {},
   "outputs": [
    {
     "name": "stdout",
     "output_type": "stream",
     "text": [
      "测试矩阵乘积速度\n",
      "\n",
      "Method = 3 for loops \tResult shape = (50, 200)\tTime = 1640.4219 ms\n",
      "Method = 2 for loops \tResult shape = (50, 200)\tTime = 25.4788 ms\n",
      "Method = 1 for loop \tResult shape = (50, 200)\tTime = 1.3390 ms\n",
      "Method = pure numpy dot\tResult shape = (50, 200)\tTime = 0.9069 ms\n",
      "\n",
      "pure numpy 和 1 for loop  结果相同：True\n",
      "pure numpy 和 2 for loops 结果相同：True\n",
      "pure numpy 和 3 for loops 结果相同：True\n"
     ]
    }
   ],
   "source": [
    "x1 = np.random.randint(0, 100, size = (50, 100))\n",
    "x2 = np.random.randint(5, 105, size = (100, 200))\n",
    "assert x1.shape[1] == x2.shape[0] # 保证这两个矩阵是可以做乘积的，否则会出错\n",
    "\n",
    "print \"测试矩阵乘积速度\\n\"\n",
    "gdot1 = np.zeros((x1.shape[0], x2.shape[1]))\n",
    "t0 = time.time()\n",
    "for i in xrange(gdot1.shape[0]):\n",
    "    for j in xrange(gdot1.shape[1]):\n",
    "        for k in xrange(x1.shape[1]): \n",
    "            gdot1[i][j] += x1[i][k] * x2[k][j]\n",
    "print \"Method = 3 for loops \\tResult shape = {}\\tTime = {:.4f} ms\".format(str(gdot1.shape), (time.time() - t0) * 1000)\n",
    "\n",
    "gdot2 = np.zeros((x1.shape[0], x2.shape[1]))\n",
    "t0 = time.time()\n",
    "for i in xrange(gdot2.shape[0]):\n",
    "    for j in xrange(gdot2.shape[1]):\n",
    "        gdot2[i][j] = np.dot(x1[i,:], x2[:, j])\n",
    "print \"Method = 2 for loops \\tResult shape = {}\\tTime = {:.4f} ms\".format(str(gdot2.shape), (time.time() - t0) * 1000)\n",
    "\n",
    "gdot3 = np.zeros((x1.shape[0], x2.shape[1]))\n",
    "t0 = time.time()\n",
    "for i in xrange(gdot3.shape[0]):\n",
    "    gdot3[i] = np.dot(x1[i,:], x2)\n",
    "print \"Method = 1 for loop \\tResult shape = {}\\tTime = {:.4f} ms\".format(str(gdot3.shape), (time.time() - t0) * 1000)\n",
    "\n",
    "t0 = time.time()\n",
    "gdot4 = np.dot(x1, x2)\n",
    "print \"Method = pure numpy dot\\tResult shape = {}\\tTime = {:.4f} ms\".format(str(gdot4.shape), (time.time() - t0) * 1000)\n",
    "\n",
    "print\n",
    "print \"pure numpy 和 1 for loop  结果相同：{}\".format((gdot4 == gdot3).all())\n",
    "print \"pure numpy 和 2 for loops 结果相同：{}\".format((gdot4 == gdot2).all())\n",
    "print \"pure numpy 和 3 for loops 结果相同：{}\".format((gdot4 == gdot1).all())"
   ]
  },
  {
   "cell_type": "code",
   "execution_count": null,
   "metadata": {
    "collapsed": true
   },
   "outputs": [],
   "source": []
  },
  {
   "cell_type": "markdown",
   "metadata": {},
   "source": [
    "** 矩阵 elementwise 乘积 **"
   ]
  },
  {
   "cell_type": "code",
   "execution_count": 12,
   "metadata": {},
   "outputs": [
    {
     "name": "stdout",
     "output_type": "stream",
     "text": [
      "[[4 0]\n",
      " [0 1]]\n",
      "[[3 3]\n",
      " [1 0]]\n"
     ]
    }
   ],
   "source": [
    "mat1 = np.random.randint(0, 5, size = (2, 2))\n",
    "mat2 = np.random.randint(0, 5, size = (2, 2))\n",
    "print mat1\n",
    "print mat2"
   ]
  },
  {
   "cell_type": "code",
   "execution_count": 13,
   "metadata": {},
   "outputs": [
    {
     "name": "stdout",
     "output_type": "stream",
     "text": [
      "[[12  0]\n",
      " [ 0  0]]\n"
     ]
    }
   ],
   "source": [
    "print np.multiply(mat1, mat2)"
   ]
  },
  {
   "cell_type": "code",
   "execution_count": 14,
   "metadata": {},
   "outputs": [
    {
     "name": "stdout",
     "output_type": "stream",
     "text": [
      "测试矩阵elementwise operation速度\n",
      "\n",
      "Method = 2 for loops \tResult shape = (100, 200)\tTime = 32.7911 ms\n",
      "Method = 1 for loops \tResult shape = (100, 200)\tTime = 0.7911 ms\n",
      "Method = pure numpy dot\tResult shape = (100, 200)\tTime = 0.6261 ms\n",
      "\n",
      "pure numpy 和 1 for loop  结果相同：True\n",
      "pure numpy 和 2 for loops 结果相同：True\n"
     ]
    }
   ],
   "source": [
    "x1 = np.random.randint(0, 100, size = (100, 200))\n",
    "x2 = np.random.randint(5, 105, size = (100, 200))\n",
    "assert x1.shape == x2.shape # 保证这两个矩阵是可以做elementwise operation的，否则会出错\n",
    "\n",
    "print \"测试矩阵elementwise operation速度\\n\"\n",
    "mul1 = np.zeros(x1.shape)\n",
    "t0 = time.time()\n",
    "for i in xrange(mul1.shape[0]):\n",
    "    for j in xrange(mul1.shape[1]):\n",
    "        mul1[i][j] = x1[i][j] * x2[i][j]\n",
    "print \"Method = 2 for loops \\tResult shape = {}\\tTime = {:.4f} ms\".format(str(mul1.shape), (time.time() - t0) * 1000)\n",
    "\n",
    "mul2 = np.zeros(x1.shape)\n",
    "t0 = time.time()\n",
    "for i in xrange(mul1.shape[0]):\n",
    "    mul2[i] = np.multiply(x1[i], x2[i])\n",
    "print \"Method = 1 for loops \\tResult shape = {}\\tTime = {:.4f} ms\".format(str(mul2.shape),(time.time() - t0) * 1000)\n",
    "\n",
    "t0 = time.time()\n",
    "mul3 = np.multiply(x1, x2)\n",
    "print \"Method = pure numpy dot\\tResult shape = {}\\tTime = {:.4f} ms\".format(str(mul3.shape), (time.time() - t0) * 1000)\n",
    "\n",
    "print\n",
    "print \"pure numpy 和 1 for loop  结果相同：{}\".format((mul3 == mul2).all())\n",
    "print \"pure numpy 和 2 for loops 结果相同：{}\".format((mul3 == mul1).all())"
   ]
  },
  {
   "cell_type": "code",
   "execution_count": null,
   "metadata": {
    "collapsed": true
   },
   "outputs": [],
   "source": []
  },
  {
   "cell_type": "markdown",
   "metadata": {
    "collapsed": true
   },
   "source": [
    "## 范数 Norm\n",
    "\n",
    "$$\\left \\Vert \\textbf{u} \\right \\| = \\sqrt{\\sum_{i}{\\textbf{u}_i}^2}$$\n"
   ]
  },
  {
   "cell_type": "code",
   "execution_count": 30,
   "metadata": {
    "collapsed": true
   },
   "outputs": [],
   "source": [
    "from numpy import linalg as LA"
   ]
  },
  {
   "cell_type": "code",
   "execution_count": 31,
   "metadata": {},
   "outputs": [
    {
     "name": "stdout",
     "output_type": "stream",
     "text": [
      "5.0\n"
     ]
    }
   ],
   "source": [
    "v = np.array([3, 4])\n",
    "# v的模长大小为\n",
    "# https://docs.scipy.org/doc/numpy-1.13.0/reference/generated/numpy.linalg.norm.html\n",
    "v_len = LA.norm(v)  # default is L2 norm\n",
    "print v_len"
   ]
  },
  {
   "cell_type": "code",
   "execution_count": 45,
   "metadata": {},
   "outputs": [
    {
     "name": "stdout",
     "output_type": "stream",
     "text": [
      "[[3 6 5 1 4]\n",
      " [7 7 5 8 9]\n",
      " [7 1 2 7 5]\n",
      " [3 7 8 6 6]]\n"
     ]
    }
   ],
   "source": [
    "mat = np.random.randint(1, 10, size = (4, 5))\n",
    "print mat"
   ]
  },
  {
   "cell_type": "code",
   "execution_count": 46,
   "metadata": {},
   "outputs": [
    {
     "name": "stdout",
     "output_type": "stream",
     "text": [
      "[[  9.32737905]\n",
      " [ 16.37070554]\n",
      " [ 11.3137085 ]\n",
      " [ 13.92838828]]\n"
     ]
    }
   ],
   "source": [
    "# 对矩阵每一行归一化：\n",
    "row_norm = LA.norm(mat, axis = 1, keepdims = True)\n",
    "print row_norm"
   ]
  },
  {
   "cell_type": "code",
   "execution_count": 47,
   "metadata": {},
   "outputs": [
    {
     "name": "stdout",
     "output_type": "stream",
     "text": [
      "[[ 0.32163376  0.64326752  0.53605627  0.10721125  0.42884501]\n",
      " [ 0.42759306  0.42759306  0.30542361  0.48867778  0.5497625 ]\n",
      " [ 0.61871843  0.08838835  0.1767767   0.61871843  0.44194174]\n",
      " [ 0.21538745  0.50257071  0.57436653  0.4307749   0.4307749 ]]\n"
     ]
    }
   ],
   "source": [
    "mat_row_norm = mat * 1./row_norm\n",
    "print mat_row_norm"
   ]
  },
  {
   "cell_type": "code",
   "execution_count": 48,
   "metadata": {
    "collapsed": true
   },
   "outputs": [],
   "source": [
    "# 对矩阵列做归一化？"
   ]
  },
  {
   "cell_type": "code",
   "execution_count": null,
   "metadata": {
    "collapsed": true
   },
   "outputs": [],
   "source": []
  },
  {
   "cell_type": "markdown",
   "metadata": {},
   "source": [
    "## 向量之间的夹角： cosine similarity\n",
    "\n",
    "$$\n",
    "cos(u, v) = \\frac {<u, v>}{||u|| \\cdot ||v||}\n",
    "$$"
   ]
  },
  {
   "cell_type": "code",
   "execution_count": 65,
   "metadata": {
    "collapsed": true
   },
   "outputs": [],
   "source": [
    "u = np.array([3, 4])\n",
    "v = np.array([1, 2])"
   ]
  },
  {
   "cell_type": "code",
   "execution_count": 69,
   "metadata": {
    "collapsed": true
   },
   "outputs": [],
   "source": [
    "def get_cosine(u, v):\n",
    "    return np.dot(u, v) * 1./LA.norm(u)/LA.norm(v)"
   ]
  },
  {
   "cell_type": "code",
   "execution_count": 70,
   "metadata": {},
   "outputs": [
    {
     "name": "stdout",
     "output_type": "stream",
     "text": [
      "0.9838699101\n"
     ]
    }
   ],
   "source": [
    "print get_cosine(u, v)"
   ]
  },
  {
   "cell_type": "code",
   "execution_count": 63,
   "metadata": {
    "collapsed": true
   },
   "outputs": [],
   "source": [
    "from scipy.spatial.distance import cosine"
   ]
  },
  {
   "cell_type": "code",
   "execution_count": 72,
   "metadata": {},
   "outputs": [
    {
     "name": "stdout",
     "output_type": "stream",
     "text": [
      "0.9838699101\n"
     ]
    }
   ],
   "source": [
    "# scipy定义是不同的\n",
    "sp_cos = 1 - cosine(u, v)\n",
    "print sp_cos"
   ]
  },
  {
   "cell_type": "code",
   "execution_count": 73,
   "metadata": {
    "collapsed": true
   },
   "outputs": [],
   "source": [
    "from sklearn.metrics.pairwise import cosine_similarity"
   ]
  },
  {
   "cell_type": "code",
   "execution_count": 76,
   "metadata": {},
   "outputs": [
    {
     "data": {
      "text/plain": [
       "array([[ 0.98386991]])"
      ]
     },
     "execution_count": 76,
     "metadata": {},
     "output_type": "execute_result"
    }
   ],
   "source": [
    "#http://scikit-learn.org/stable/modules/generated/sklearn.metrics.pairwise.cosine_similarity.html\n",
    "cosine_similarity(u.reshape(1, -1), v.reshape(1, -1))"
   ]
  },
  {
   "cell_type": "code",
   "execution_count": 88,
   "metadata": {},
   "outputs": [
    {
     "name": "stdout",
     "output_type": "stream",
     "text": [
      "vector u is: \n",
      "[[3 4]\n",
      " [6 8]\n",
      " [3 5]]\n",
      "vector v is:  [[1 2]]\n"
     ]
    }
   ],
   "source": [
    "u = np.array([[3, 4], [6, 8], [3, 5]])  # u: n_samples of u x n_features\n",
    "v = np.array([[1, 2]])  # v: n_samples of v x n_features\n",
    "print \"vector u is: \\n\", u\n",
    "print \"vector v is: \", v"
   ]
  },
  {
   "cell_type": "code",
   "execution_count": 89,
   "metadata": {},
   "outputs": [
    {
     "data": {
      "text/plain": [
       "array([[ 0.98386991],\n",
       "       [ 0.98386991],\n",
       "       [ 0.99705449]])"
      ]
     },
     "execution_count": 89,
     "metadata": {},
     "output_type": "execute_result"
    }
   ],
   "source": [
    "cosine_similarity(u, v)"
   ]
  },
  {
   "cell_type": "code",
   "execution_count": null,
   "metadata": {
    "collapsed": true
   },
   "outputs": [],
   "source": []
  },
  {
   "cell_type": "markdown",
   "metadata": {},
   "source": [
    "## 矩阵元素的提取"
   ]
  },
  {
   "cell_type": "code",
   "execution_count": 91,
   "metadata": {},
   "outputs": [
    {
     "name": "stdout",
     "output_type": "stream",
     "text": [
      "[[15 18 13 12 14 16  9  2]\n",
      " [10 13 19 12  3 18  8 18]\n",
      " [ 1  6  5  4 12 18 11  2]\n",
      " [ 7  8 10  6  8  7  7 11]\n",
      " [ 6  6  9 16  6 10 18  4]]\n"
     ]
    }
   ],
   "source": [
    "X = np.random.randint(1, 20, size = (5, 8))\n",
    "print X"
   ]
  },
  {
   "cell_type": "code",
   "execution_count": 93,
   "metadata": {},
   "outputs": [
    {
     "name": "stdout",
     "output_type": "stream",
     "text": [
      "8\n"
     ]
    }
   ],
   "source": [
    "# 某一个元素\n",
    "print X[3, 4]"
   ]
  },
  {
   "cell_type": "code",
   "execution_count": 94,
   "metadata": {},
   "outputs": [
    {
     "name": "stdout",
     "output_type": "stream",
     "text": [
      "[ 7  8 10  6  8  7  7 11]\n"
     ]
    }
   ],
   "source": [
    "# 某一行元素\n",
    "print X[3, :]"
   ]
  },
  {
   "cell_type": "code",
   "execution_count": 95,
   "metadata": {},
   "outputs": [
    {
     "name": "stdout",
     "output_type": "stream",
     "text": [
      "[13 19  5 10  9]\n"
     ]
    }
   ],
   "source": [
    "#某一列元素\n",
    "print X[:, 2]"
   ]
  },
  {
   "cell_type": "code",
   "execution_count": 96,
   "metadata": {},
   "outputs": [
    {
     "name": "stdout",
     "output_type": "stream",
     "text": [
      "[[10 13 19 12  3 18  8 18]\n",
      " [ 1  6  5  4 12 18 11  2]]\n"
     ]
    }
   ],
   "source": [
    "print X[1: 3, :]"
   ]
  },
  {
   "cell_type": "markdown",
   "metadata": {},
   "source": [
    "## 对角矩阵，单位矩阵"
   ]
  },
  {
   "cell_type": "code",
   "execution_count": 97,
   "metadata": {
    "collapsed": true
   },
   "outputs": [],
   "source": [
    "I = np.eye(3, 3)"
   ]
  },
  {
   "cell_type": "code",
   "execution_count": 98,
   "metadata": {},
   "outputs": [
    {
     "name": "stdout",
     "output_type": "stream",
     "text": [
      "[[ 1.  0.  0.]\n",
      " [ 0.  1.  0.]\n",
      " [ 0.  0.  1.]]\n"
     ]
    }
   ],
   "source": [
    "print I"
   ]
  },
  {
   "cell_type": "code",
   "execution_count": 101,
   "metadata": {
    "collapsed": true
   },
   "outputs": [],
   "source": [
    "A = np.zeros((3, 4))"
   ]
  },
  {
   "cell_type": "code",
   "execution_count": 102,
   "metadata": {},
   "outputs": [
    {
     "data": {
      "text/plain": [
       "array([[ 0.,  0.,  0.,  0.],\n",
       "       [ 0.,  0.,  0.,  0.],\n",
       "       [ 0.,  0.,  0.,  0.]])"
      ]
     },
     "execution_count": 102,
     "metadata": {},
     "output_type": "execute_result"
    }
   ],
   "source": [
    "A"
   ]
  },
  {
   "cell_type": "code",
   "execution_count": 104,
   "metadata": {},
   "outputs": [
    {
     "name": "stdout",
     "output_type": "stream",
     "text": [
      "[[ 0.  0.  0.]\n",
      " [ 0.  0.  0.]\n",
      " [ 0.  0.  0.]]\n"
     ]
    }
   ],
   "source": [
    "B = np.zeros_like(I)\n",
    "print B"
   ]
  },
  {
   "cell_type": "code",
   "execution_count": 107,
   "metadata": {},
   "outputs": [
    {
     "name": "stdout",
     "output_type": "stream",
     "text": [
      "[[4 0 0]\n",
      " [0 5 0]\n",
      " [0 0 6]]\n"
     ]
    }
   ],
   "source": [
    "C = np.diag([4,5,6])\n",
    "print C"
   ]
  },
  {
   "cell_type": "code",
   "execution_count": 108,
   "metadata": {},
   "outputs": [
    {
     "name": "stdout",
     "output_type": "stream",
     "text": [
      "[ 1.  1.  1.]\n"
     ]
    }
   ],
   "source": [
    "print np.diag(I)"
   ]
  },
  {
   "cell_type": "code",
   "execution_count": null,
   "metadata": {
    "collapsed": true
   },
   "outputs": [],
   "source": []
  },
  {
   "cell_type": "markdown",
   "metadata": {},
   "source": [
    "## 转置矩阵"
   ]
  },
  {
   "cell_type": "code",
   "execution_count": 114,
   "metadata": {},
   "outputs": [
    {
     "name": "stdout",
     "output_type": "stream",
     "text": [
      "[[ 1  2  3  4]\n",
      " [ 5  6  7  8]\n",
      " [ 9 10 11 12]]\n"
     ]
    }
   ],
   "source": [
    "A = np.arange(1, 13)\n",
    "A = A.reshape(3, 4)\n",
    "print A"
   ]
  },
  {
   "cell_type": "code",
   "execution_count": 115,
   "metadata": {},
   "outputs": [
    {
     "data": {
      "text/plain": [
       "array([[ 1,  5,  9],\n",
       "       [ 2,  6, 10],\n",
       "       [ 3,  7, 11],\n",
       "       [ 4,  8, 12]])"
      ]
     },
     "execution_count": 115,
     "metadata": {},
     "output_type": "execute_result"
    }
   ],
   "source": [
    "A.T"
   ]
  },
  {
   "cell_type": "code",
   "execution_count": 120,
   "metadata": {},
   "outputs": [
    {
     "data": {
      "text/plain": [
       "array([[ True,  True,  True,  True],\n",
       "       [ True,  True,  True,  True],\n",
       "       [ True,  True,  True,  True]], dtype=bool)"
      ]
     },
     "execution_count": 120,
     "metadata": {},
     "output_type": "execute_result"
    }
   ],
   "source": [
    "## 转置的转置是矩阵本身\n",
    "(A.T.T == A)\n",
    "# (A.T.T == A).all()"
   ]
  },
  {
   "cell_type": "markdown",
   "metadata": {},
   "source": [
    "## reshape"
   ]
  },
  {
   "cell_type": "code",
   "execution_count": 123,
   "metadata": {},
   "outputs": [
    {
     "name": "stdout",
     "output_type": "stream",
     "text": [
      "[3 4]\n"
     ]
    }
   ],
   "source": [
    "u = np.array([3, 4])\n",
    "print u"
   ]
  },
  {
   "cell_type": "code",
   "execution_count": 124,
   "metadata": {},
   "outputs": [
    {
     "name": "stdout",
     "output_type": "stream",
     "text": [
      "[3 4]\n"
     ]
    }
   ],
   "source": [
    "print u.T"
   ]
  },
  {
   "cell_type": "code",
   "execution_count": 128,
   "metadata": {},
   "outputs": [
    {
     "name": "stdout",
     "output_type": "stream",
     "text": [
      "u2d shape is:  (1, 2)\n",
      "[[3 4]]\n"
     ]
    }
   ],
   "source": [
    "# make u 2D\n",
    "# method 1:\n",
    "u2d = np.array([u])\n",
    "print \"u2d shape is: \", str(u2d.shape)\n",
    "print u2d"
   ]
  },
  {
   "cell_type": "code",
   "execution_count": 131,
   "metadata": {},
   "outputs": [
    {
     "name": "stdout",
     "output_type": "stream",
     "text": [
      "u2d shape is:  (1, 2)\n",
      "[[3 4]] \n",
      "\n",
      "u2d shape is:  (2, 1)\n",
      "[[3]\n",
      " [4]]\n"
     ]
    }
   ],
   "source": [
    "# method 2:\n",
    "u2d = u.reshape(1, -1)\n",
    "print \"u2d shape is: \", str(u2d.shape)\n",
    "print u2d, \"\\n\"\n",
    "\n",
    "u2d = u.reshape(-1, 1)\n",
    "print \"u2d shape is: \", str(u2d.shape)\n",
    "print u2d"
   ]
  },
  {
   "cell_type": "code",
   "execution_count": 135,
   "metadata": {},
   "outputs": [
    {
     "name": "stdout",
     "output_type": "stream",
     "text": [
      "u2d shape is:  (1, 2)\n",
      "[[3 4]] \n",
      "\n",
      "u2d shape is:  (2, 1)\n",
      "[[3]\n",
      " [4]]\n"
     ]
    }
   ],
   "source": [
    "# method 2:\n",
    "u2d = u[np.newaxis, :]\n",
    "print \"u2d shape is: \", str(u2d.shape)\n",
    "print u2d, \"\\n\"\n",
    "\n",
    "u2d = u[:, np.newaxis]\n",
    "print \"u2d shape is: \", str(u2d.shape)\n",
    "print u2d"
   ]
  },
  {
   "cell_type": "code",
   "execution_count": null,
   "metadata": {
    "collapsed": true
   },
   "outputs": [],
   "source": []
  },
  {
   "cell_type": "markdown",
   "metadata": {},
   "source": [
    "## 行列式, 秩, 迹"
   ]
  },
  {
   "cell_type": "code",
   "execution_count": 142,
   "metadata": {},
   "outputs": [
    {
     "name": "stdout",
     "output_type": "stream",
     "text": [
      "[[1 0 0]\n",
      " [0 2 0]\n",
      " [0 0 3]]\n"
     ]
    }
   ],
   "source": [
    "D = np.diag([1, 2, 3])\n",
    "print D"
   ]
  },
  {
   "cell_type": "code",
   "execution_count": 143,
   "metadata": {},
   "outputs": [
    {
     "data": {
      "text/plain": [
       "6.0"
      ]
     },
     "execution_count": 143,
     "metadata": {},
     "output_type": "execute_result"
    }
   ],
   "source": [
    "LA.det(D)"
   ]
  },
  {
   "cell_type": "code",
   "execution_count": 144,
   "metadata": {},
   "outputs": [
    {
     "data": {
      "text/plain": [
       "array([ 1.,  2.,  3.])"
      ]
     },
     "execution_count": 144,
     "metadata": {},
     "output_type": "execute_result"
    }
   ],
   "source": [
    "LA.eigvals(D)"
   ]
  },
  {
   "cell_type": "code",
   "execution_count": 152,
   "metadata": {},
   "outputs": [
    {
     "name": "stdout",
     "output_type": "stream",
     "text": [
      "eigen values are:  [ 1.  2.  3.]\n",
      "eigen values are: \n",
      "[[ 1.  0.  0.]\n",
      " [ 0.  1.  0.]\n",
      " [ 0.  0.  1.]]\n"
     ]
    }
   ],
   "source": [
    "eigval, eigvector = LA.eig(D)\n",
    "print \"eigen values are: \", eigval\n",
    "print \"eigen values are: \\n\", eigvector"
   ]
  },
  {
   "cell_type": "code",
   "execution_count": 153,
   "metadata": {},
   "outputs": [
    {
     "data": {
      "text/plain": [
       "3"
      ]
     },
     "execution_count": 153,
     "metadata": {},
     "output_type": "execute_result"
    }
   ],
   "source": [
    "LA.matrix_rank(D)"
   ]
  },
  {
   "cell_type": "code",
   "execution_count": 155,
   "metadata": {},
   "outputs": [
    {
     "data": {
      "text/plain": [
       "array([[1, 2, 3],\n",
       "       [2, 4, 6]])"
      ]
     },
     "execution_count": 155,
     "metadata": {},
     "output_type": "execute_result"
    }
   ],
   "source": [
    "A = np.array([[1, 2, 3], [2, 4, 6]])\n",
    "A"
   ]
  },
  {
   "cell_type": "code",
   "execution_count": 156,
   "metadata": {},
   "outputs": [
    {
     "data": {
      "text/plain": [
       "1"
      ]
     },
     "execution_count": 156,
     "metadata": {},
     "output_type": "execute_result"
    }
   ],
   "source": [
    "LA.matrix_rank(A)"
   ]
  },
  {
   "cell_type": "code",
   "execution_count": 158,
   "metadata": {},
   "outputs": [
    {
     "data": {
      "text/plain": [
       "6"
      ]
     },
     "execution_count": 158,
     "metadata": {},
     "output_type": "execute_result"
    }
   ],
   "source": [
    "np.trace(D)"
   ]
  },
  {
   "cell_type": "markdown",
   "metadata": {},
   "source": [
    "## SVD 奇异值分解\n",
    "## PCA： 主成分分析"
   ]
  },
  {
   "cell_type": "code",
   "execution_count": 165,
   "metadata": {
    "collapsed": true
   },
   "outputs": [],
   "source": [
    "A = np.random.randn(9, 6)"
   ]
  },
  {
   "cell_type": "code",
   "execution_count": 175,
   "metadata": {
    "collapsed": true
   },
   "outputs": [],
   "source": [
    "\"\"\"\n",
    "full_matrices : bool, optional\n",
    "If True (default), u and v have the shapes (M, M) and (N, N), respectively. \n",
    "Otherwise, the shapes are (M, K) and (K, N), respectively, where K = min(M, N).\n",
    "\"\"\"\n",
    "U, s, V = LA.svd(A, full_matrices=False)"
   ]
  },
  {
   "cell_type": "code",
   "execution_count": 176,
   "metadata": {},
   "outputs": [
    {
     "name": "stdout",
     "output_type": "stream",
     "text": [
      "(9, 6) (6,) (6, 6)\n"
     ]
    }
   ],
   "source": [
    "print U.shape, s.shape, V.shape"
   ]
  },
  {
   "cell_type": "code",
   "execution_count": 177,
   "metadata": {},
   "outputs": [
    {
     "name": "stdout",
     "output_type": "stream",
     "text": [
      "[ 5.07334314  3.71080833  3.12639521  2.54070863  1.84883077  0.74050351]\n",
      "[[ 5.07334314  0.          0.          0.          0.          0.        ]\n",
      " [ 0.          3.71080833  0.          0.          0.          0.        ]\n",
      " [ 0.          0.          3.12639521  0.          0.          0.        ]\n",
      " [ 0.          0.          0.          2.54070863  0.          0.        ]\n",
      " [ 0.          0.          0.          0.          1.84883077  0.        ]\n",
      " [ 0.          0.          0.          0.          0.          0.74050351]]\n"
     ]
    }
   ],
   "source": [
    "print s\n",
    "S = np.diag(s)\n",
    "print S"
   ]
  },
  {
   "cell_type": "code",
   "execution_count": 178,
   "metadata": {
    "collapsed": true
   },
   "outputs": [],
   "source": [
    "A_svd = U.dot(S.dot(V))"
   ]
  },
  {
   "cell_type": "code",
   "execution_count": 179,
   "metadata": {},
   "outputs": [
    {
     "name": "stdout",
     "output_type": "stream",
     "text": [
      "True\n"
     ]
    }
   ],
   "source": [
    "print np.allclose(A, A_svd)"
   ]
  },
  {
   "cell_type": "code",
   "execution_count": 180,
   "metadata": {
    "collapsed": true
   },
   "outputs": [],
   "source": [
    "from sklearn.decomposition import PCA"
   ]
  },
  {
   "cell_type": "code",
   "execution_count": 269,
   "metadata": {
    "collapsed": true
   },
   "outputs": [],
   "source": [
    "X = np.random.randint(1, 10, size = (100, 10))\n",
    "pca = PCA(n_components = 3)"
   ]
  },
  {
   "cell_type": "code",
   "execution_count": 270,
   "metadata": {
    "collapsed": true
   },
   "outputs": [],
   "source": [
    "pca.fit(X)\n",
    "X_pca = pca.transform(X)"
   ]
  },
  {
   "cell_type": "code",
   "execution_count": 271,
   "metadata": {},
   "outputs": [
    {
     "data": {
      "text/plain": [
       "(100, 3)"
      ]
     },
     "execution_count": 271,
     "metadata": {},
     "output_type": "execute_result"
    }
   ],
   "source": [
    "X_pca.shape"
   ]
  },
  {
   "cell_type": "code",
   "execution_count": 272,
   "metadata": {},
   "outputs": [
    {
     "name": "stdout",
     "output_type": "stream",
     "text": [
      "[ 0.15347936  0.13988336  0.12005827]\n"
     ]
    }
   ],
   "source": [
    "print pca.explained_variance_ratio_"
   ]
  },
  {
   "cell_type": "code",
   "execution_count": 273,
   "metadata": {
    "collapsed": true
   },
   "outputs": [],
   "source": [
    "# how to use svd perform PCA"
   ]
  },
  {
   "cell_type": "code",
   "execution_count": 274,
   "metadata": {
    "collapsed": true
   },
   "outputs": [],
   "source": [
    "mean_vec = np.mean(X, axis = 0)\n",
    "cov_mat = (X - mean_vec).T.dot((X - mean_vec)) / (X.shape[0] - 1)"
   ]
  },
  {
   "cell_type": "code",
   "execution_count": 275,
   "metadata": {},
   "outputs": [
    {
     "data": {
      "text/plain": [
       "True"
      ]
     },
     "execution_count": 275,
     "metadata": {},
     "output_type": "execute_result"
    }
   ],
   "source": [
    "np.allclose(cov_mat, np.cov(X.T))"
   ]
  },
  {
   "cell_type": "code",
   "execution_count": 276,
   "metadata": {
    "collapsed": true
   },
   "outputs": [],
   "source": [
    "U, s, V = LA.svd(cov_mat)"
   ]
  },
  {
   "cell_type": "code",
   "execution_count": 277,
   "metadata": {},
   "outputs": [
    {
     "name": "stdout",
     "output_type": "stream",
     "text": [
      "(10, 10) (10,) (10, 10)\n"
     ]
    }
   ],
   "source": [
    "print U.shape, s.shape, V.shape"
   ]
  },
  {
   "cell_type": "code",
   "execution_count": 278,
   "metadata": {
    "collapsed": true
   },
   "outputs": [],
   "source": [
    "S = np.diag(s)/np.sum(s)"
   ]
  },
  {
   "cell_type": "code",
   "execution_count": 296,
   "metadata": {},
   "outputs": [
    {
     "name": "stdout",
     "output_type": "stream",
     "text": [
      "[ 0.15347936  0.13988336  0.12005827]\n",
      "True\n"
     ]
    }
   ],
   "source": [
    "# PCA的本质\n",
    "print np.diag(S[:3])\n",
    "print np.allclose(np.diag(S[:3]), pca.explained_variance_ratio_)"
   ]
  },
  {
   "cell_type": "code",
   "execution_count": null,
   "metadata": {
    "collapsed": true
   },
   "outputs": [],
   "source": []
  },
  {
   "cell_type": "code",
   "execution_count": null,
   "metadata": {
    "collapsed": true
   },
   "outputs": [],
   "source": []
  },
  {
   "cell_type": "code",
   "execution_count": null,
   "metadata": {
    "collapsed": true
   },
   "outputs": [],
   "source": []
  },
  {
   "cell_type": "code",
   "execution_count": null,
   "metadata": {
    "collapsed": true
   },
   "outputs": [],
   "source": []
  },
  {
   "cell_type": "code",
   "execution_count": null,
   "metadata": {
    "collapsed": true
   },
   "outputs": [],
   "source": []
  },
  {
   "cell_type": "code",
   "execution_count": null,
   "metadata": {
    "collapsed": true
   },
   "outputs": [],
   "source": []
  }
 ],
 "metadata": {
  "kernelspec": {
   "display_name": "Python 3",
   "language": "python",
   "name": "python3"
  },
  "language_info": {
   "codemirror_mode": {
    "name": "ipython",
    "version": 3
   },
   "file_extension": ".py",
   "mimetype": "text/x-python",
   "name": "python",
   "nbconvert_exporter": "python",
   "pygments_lexer": "ipython3",
   "version": "3.6.3"
  }
 },
 "nbformat": 4,
 "nbformat_minor": 2
}
